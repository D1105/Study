{
 "cells": [
  {
   "cell_type": "markdown",
   "metadata": {
    "id": "s5oU2Q5R3f3n"
   },
   "source": [
    "Проверим, что у вас подключена возможность работы с SQL"
   ]
  },
  {
   "cell_type": "code",
   "execution_count": 17,
   "metadata": {},
   "outputs": [
    {
     "name": "stdout",
     "output_type": "stream",
     "text": [
      "Requirement already satisfied: ipython-sql in ./opt/anaconda3/lib/python3.9/site-packages (0.4.1)\n",
      "Requirement already satisfied: sqlparse in ./opt/anaconda3/lib/python3.9/site-packages (from ipython-sql) (0.4.2)\n",
      "Requirement already satisfied: sqlalchemy>=0.6.7 in ./opt/anaconda3/lib/python3.9/site-packages (from ipython-sql) (1.4.22)\n",
      "Requirement already satisfied: ipython-genutils>=0.1.0 in ./opt/anaconda3/lib/python3.9/site-packages (from ipython-sql) (0.2.0)\n",
      "Requirement already satisfied: prettytable<1 in ./opt/anaconda3/lib/python3.9/site-packages (from ipython-sql) (0.7.2)\n",
      "Requirement already satisfied: ipython>=1.0 in ./opt/anaconda3/lib/python3.9/site-packages (from ipython-sql) (7.29.0)\n",
      "Requirement already satisfied: six in ./opt/anaconda3/lib/python3.9/site-packages (from ipython-sql) (1.16.0)\n",
      "Requirement already satisfied: decorator in ./opt/anaconda3/lib/python3.9/site-packages (from ipython>=1.0->ipython-sql) (5.1.0)\n",
      "Requirement already satisfied: appnope in ./opt/anaconda3/lib/python3.9/site-packages (from ipython>=1.0->ipython-sql) (0.1.2)\n",
      "Requirement already satisfied: pickleshare in ./opt/anaconda3/lib/python3.9/site-packages (from ipython>=1.0->ipython-sql) (0.7.5)\n",
      "Requirement already satisfied: pygments in ./opt/anaconda3/lib/python3.9/site-packages (from ipython>=1.0->ipython-sql) (2.10.0)\n",
      "Requirement already satisfied: prompt-toolkit!=3.0.0,!=3.0.1,<3.1.0,>=2.0.0 in ./opt/anaconda3/lib/python3.9/site-packages (from ipython>=1.0->ipython-sql) (3.0.20)\n",
      "Requirement already satisfied: matplotlib-inline in ./opt/anaconda3/lib/python3.9/site-packages (from ipython>=1.0->ipython-sql) (0.1.2)\n",
      "Requirement already satisfied: pexpect>4.3 in ./opt/anaconda3/lib/python3.9/site-packages (from ipython>=1.0->ipython-sql) (4.8.0)\n",
      "Requirement already satisfied: traitlets>=4.2 in ./opt/anaconda3/lib/python3.9/site-packages (from ipython>=1.0->ipython-sql) (5.1.0)\n",
      "Requirement already satisfied: backcall in ./opt/anaconda3/lib/python3.9/site-packages (from ipython>=1.0->ipython-sql) (0.2.0)\n",
      "Requirement already satisfied: setuptools>=18.5 in ./opt/anaconda3/lib/python3.9/site-packages (from ipython>=1.0->ipython-sql) (58.0.4)\n",
      "Requirement already satisfied: jedi>=0.16 in ./opt/anaconda3/lib/python3.9/site-packages (from ipython>=1.0->ipython-sql) (0.18.0)\n",
      "Requirement already satisfied: parso<0.9.0,>=0.8.0 in ./opt/anaconda3/lib/python3.9/site-packages (from jedi>=0.16->ipython>=1.0->ipython-sql) (0.8.2)\n",
      "Requirement already satisfied: ptyprocess>=0.5 in ./opt/anaconda3/lib/python3.9/site-packages (from pexpect>4.3->ipython>=1.0->ipython-sql) (0.7.0)\n",
      "Requirement already satisfied: wcwidth in ./opt/anaconda3/lib/python3.9/site-packages (from prompt-toolkit!=3.0.0,!=3.0.1,<3.1.0,>=2.0.0->ipython>=1.0->ipython-sql) (0.2.5)\n",
      "Requirement already satisfied: greenlet!=0.4.17 in ./opt/anaconda3/lib/python3.9/site-packages (from sqlalchemy>=0.6.7->ipython-sql) (1.1.1)\n"
     ]
    }
   ],
   "source": [
    "!pip install ipython-sql #не обязательно запускать в colab"
   ]
  },
  {
   "cell_type": "code",
   "execution_count": 18,
   "metadata": {
    "colab": {
     "base_uri": "https://localhost:8080/",
     "height": 35
    },
    "executionInfo": {
     "elapsed": 707,
     "status": "ok",
     "timestamp": 1662986864127,
     "user": {
      "displayName": "Alexander F",
      "userId": "00383436763330758578"
     },
     "user_tz": -180
    },
    "id": "ct9OpQ853f3n",
    "outputId": "21de2049-01a8-4519-bb94-7af89ed7505d"
   },
   "outputs": [
    {
     "name": "stdout",
     "output_type": "stream",
     "text": [
      "The sql extension is already loaded. To reload it, use:\n",
      "  %reload_ext sql\n"
     ]
    }
   ],
   "source": [
    "%load_ext sql\n",
    "%sql sqlite://"
   ]
  },
  {
   "cell_type": "markdown",
   "metadata": {
    "id": "nMjULTOr3f3p"
   },
   "source": [
    "Создадим таблицу специальностей со следующими полями:\n",
    "1. id - уникальный идентификатор специальности\n",
    "2. Name - Специальность"
   ]
  },
  {
   "cell_type": "code",
   "execution_count": 19,
   "metadata": {
    "colab": {
     "base_uri": "https://localhost:8080/"
    },
    "executionInfo": {
     "elapsed": 17,
     "status": "ok",
     "timestamp": 1662986864131,
     "user": {
      "displayName": "Alexander F",
      "userId": "00383436763330758578"
     },
     "user_tz": -180
    },
    "id": "ZjlRJsr63f3p",
    "outputId": "343cda78-43dc-43fb-d0e7-a4b7c4b99a3b"
   },
   "outputs": [
    {
     "name": "stdout",
     "output_type": "stream",
     "text": [
      " * sqlite://\n",
      "Done.\n",
      "Done.\n",
      "Done.\n"
     ]
    },
    {
     "data": {
      "text/plain": [
       "[]"
      ]
     },
     "execution_count": 19,
     "metadata": {},
     "output_type": "execute_result"
    }
   ],
   "source": [
    "%%sql \n",
    "drop table if exists Students;\n",
    "drop table if exists Specialities;\n",
    "\n",
    "CREATE TABLE Specialities\n",
    "(\n",
    "    id integer primary key, \n",
    "    Name varchar(50)\n",
    ");"
   ]
  },
  {
   "cell_type": "markdown",
   "metadata": {
    "id": "vNpV5jjw3f3q"
   },
   "source": [
    "Проверим, что таблица создана"
   ]
  },
  {
   "cell_type": "code",
   "execution_count": 20,
   "metadata": {
    "colab": {
     "base_uri": "https://localhost:8080/",
     "height": 77
    },
    "executionInfo": {
     "elapsed": 16,
     "status": "ok",
     "timestamp": 1662986864133,
     "user": {
      "displayName": "Alexander F",
      "userId": "00383436763330758578"
     },
     "user_tz": -180
    },
    "id": "PHGSKu2-3f3q",
    "outputId": "a2ae863a-0c9d-4185-837a-bff27907ac17"
   },
   "outputs": [
    {
     "name": "stdout",
     "output_type": "stream",
     "text": [
      " * sqlite://\n",
      "Done.\n"
     ]
    },
    {
     "data": {
      "text/html": [
       "<table>\n",
       "    <tr>\n",
       "        <th>id</th>\n",
       "        <th>Name</th>\n",
       "    </tr>\n",
       "</table>"
      ],
      "text/plain": [
       "[]"
      ]
     },
     "execution_count": 20,
     "metadata": {},
     "output_type": "execute_result"
    }
   ],
   "source": [
    "%sql select * from Specialities"
   ]
  },
  {
   "cell_type": "markdown",
   "metadata": {
    "id": "NNU1lQAT3f3q"
   },
   "source": [
    "Заполним таблицу данными"
   ]
  },
  {
   "cell_type": "code",
   "execution_count": 21,
   "metadata": {
    "colab": {
     "base_uri": "https://localhost:8080/"
    },
    "executionInfo": {
     "elapsed": 370,
     "status": "ok",
     "timestamp": 1662986864488,
     "user": {
      "displayName": "Alexander F",
      "userId": "00383436763330758578"
     },
     "user_tz": -180
    },
    "id": "ffoy8GBQ3f3r",
    "outputId": "80a38ddc-68ec-4dbd-a6bf-77d1a527fce7"
   },
   "outputs": [
    {
     "name": "stdout",
     "output_type": "stream",
     "text": [
      " * sqlite://\n",
      "1 rows affected.\n",
      "1 rows affected.\n",
      "1 rows affected.\n",
      "1 rows affected.\n",
      "1 rows affected.\n",
      "1 rows affected.\n",
      "1 rows affected.\n"
     ]
    },
    {
     "data": {
      "text/plain": [
       "[]"
      ]
     },
     "execution_count": 21,
     "metadata": {},
     "output_type": "execute_result"
    }
   ],
   "source": [
    "%%sql\n",
    "insert Into Specialities(id, name) values (1, 'Биотехнические системы и технологии');\n",
    "insert Into Specialities(id, name) values (2, 'Компьютерная безопасность');\n",
    "insert Into Specialities(id, name) values (3, 'Прикладная математика и информатика');\n",
    "insert Into Specialities(id, name) values (4, 'Мехатроника и робототехника');\n",
    "insert Into Specialities(id, name) values (5, 'Системный анализ и управление');\n",
    "insert Into Specialities(id, name) values (6, 'Информационная безопасность телекоммуникационных систем');\n",
    "insert Into Specialities(id, name) values (7, 'Управление в технических системах');"
   ]
  },
  {
   "cell_type": "markdown",
   "metadata": {
    "id": "Nbtm_2rx3f3r"
   },
   "source": [
    "SQLite требует включение поддержки внешних ключей.\n",
    "Более подробно можно посмотреть [здесь](https://sqlite.org/foreignkeys.html)"
   ]
  },
  {
   "cell_type": "code",
   "execution_count": 22,
   "metadata": {
    "colab": {
     "base_uri": "https://localhost:8080/"
    },
    "executionInfo": {
     "elapsed": 49,
     "status": "ok",
     "timestamp": 1662986864489,
     "user": {
      "displayName": "Alexander F",
      "userId": "00383436763330758578"
     },
     "user_tz": -180
    },
    "id": "QOcQJLCr3f3r",
    "outputId": "23649e9a-3416-4505-ae9e-f4d97643ce90"
   },
   "outputs": [
    {
     "name": "stdout",
     "output_type": "stream",
     "text": [
      " * sqlite://\n",
      "Done.\n"
     ]
    },
    {
     "data": {
      "text/plain": [
       "[]"
      ]
     },
     "execution_count": 22,
     "metadata": {},
     "output_type": "execute_result"
    }
   ],
   "source": [
    "%%sql\n",
    "PRAGMA foreign_keys = ON;"
   ]
  },
  {
   "cell_type": "markdown",
   "metadata": {
    "id": "CMPVyr0G3f3s"
   },
   "source": [
    "Создадим таблицу Студентов со следующими полями:\n",
    "1. Student_id - уникальный идентификатор студента\n",
    "2. Name - имя студента\n",
    "3. Second Name - фамилия студента\n",
    "4. Speciality - специальность студента\n",
    "5. StudyGroup - группа студента \n",
    "6. GPA - средний балл"
   ]
  },
  {
   "cell_type": "code",
   "execution_count": 23,
   "metadata": {
    "colab": {
     "base_uri": "https://localhost:8080/"
    },
    "executionInfo": {
     "elapsed": 43,
     "status": "ok",
     "timestamp": 1662986864490,
     "user": {
      "displayName": "Alexander F",
      "userId": "00383436763330758578"
     },
     "user_tz": -180
    },
    "id": "iH4QwAPL3f3s",
    "outputId": "fe8123a9-001e-469f-fa43-a6c607e8f1cf"
   },
   "outputs": [
    {
     "name": "stdout",
     "output_type": "stream",
     "text": [
      " * sqlite://\n",
      "Done.\n",
      "Done.\n"
     ]
    },
    {
     "data": {
      "text/plain": [
       "[]"
      ]
     },
     "execution_count": 23,
     "metadata": {},
     "output_type": "execute_result"
    }
   ],
   "source": [
    "%%sql \n",
    "drop table if exists Students;\n",
    "\n",
    "CREATE TABLE Students \n",
    "(\n",
    "    student_id integer primary key, \n",
    "    Name varchar(50),\n",
    "    SecondName varchar(50),\n",
    "    Speciality_id integer ,\n",
    "    StudyGroup varchar(20),\n",
    "    GPA number,\n",
    "    foreign key(Speciality_id) references Specialities(id)\n",
    ");"
   ]
  },
  {
   "cell_type": "markdown",
   "metadata": {
    "id": "9hb9w8oC3f3s"
   },
   "source": [
    "Проверим, что таблица создана"
   ]
  },
  {
   "cell_type": "code",
   "execution_count": 16,
   "metadata": {
    "colab": {
     "base_uri": "https://localhost:8080/",
     "height": 77
    },
    "executionInfo": {
     "elapsed": 36,
     "status": "ok",
     "timestamp": 1662986864490,
     "user": {
      "displayName": "Alexander F",
      "userId": "00383436763330758578"
     },
     "user_tz": -180
    },
    "id": "6IMmHj9J3f3s",
    "outputId": "e13d3f34-4adc-46d4-b0e7-7d0e12fb9936"
   },
   "outputs": [
    {
     "name": "stdout",
     "output_type": "stream",
     "text": [
      " * sqlite://\n",
      "Done.\n"
     ]
    },
    {
     "data": {
      "text/html": [
       "<table>\n",
       "    <tr>\n",
       "        <th>student_id</th>\n",
       "        <th>Name</th>\n",
       "        <th>SecondName</th>\n",
       "        <th>Speciality_id</th>\n",
       "        <th>StudyGroup</th>\n",
       "        <th>GPA</th>\n",
       "    </tr>\n",
       "</table>"
      ],
      "text/plain": [
       "[]"
      ]
     },
     "execution_count": 16,
     "metadata": {},
     "output_type": "execute_result"
    }
   ],
   "source": [
    "%%sql \n",
    "SELECT * FROM Students"
   ]
  },
  {
   "cell_type": "markdown",
   "metadata": {
    "id": "5rUU1gfv3f3t"
   },
   "source": [
    "Заполним таблицу данными"
   ]
  },
  {
   "cell_type": "code",
   "execution_count": 24,
   "metadata": {
    "colab": {
     "base_uri": "https://localhost:8080/"
    },
    "executionInfo": {
     "elapsed": 30,
     "status": "ok",
     "timestamp": 1662986864491,
     "user": {
      "displayName": "Alexander F",
      "userId": "00383436763330758578"
     },
     "user_tz": -180
    },
    "id": "PISGbGrC3f3t",
    "outputId": "912011d0-da77-499c-e2d1-348281aa0d7f",
    "scrolled": true
   },
   "outputs": [
    {
     "name": "stdout",
     "output_type": "stream",
     "text": [
      " * sqlite://\n",
      "1 rows affected.\n",
      "1 rows affected.\n",
      "1 rows affected.\n",
      "1 rows affected.\n",
      "1 rows affected.\n",
      "1 rows affected.\n",
      "1 rows affected.\n",
      "1 rows affected.\n",
      "1 rows affected.\n",
      "1 rows affected.\n",
      "1 rows affected.\n",
      "1 rows affected.\n",
      "1 rows affected.\n",
      "1 rows affected.\n"
     ]
    },
    {
     "data": {
      "text/plain": [
       "[]"
      ]
     },
     "execution_count": 24,
     "metadata": {},
     "output_type": "execute_result"
    }
   ],
   "source": [
    "%%sql\n",
    "insert into Students(student_id, SecondName, Name, Speciality_id, StudyGroup, GPA) VALUES (1, 'Альянов', 'Николай', 1, '04-20', 3.58);\n",
    "insert into Students(student_id, SecondName, Name, Speciality_id, StudyGroup, GPA) VALUES (2, 'Крыгина', 'Ева', 1, '01-20', 4.58);\n",
    "insert into Students(student_id, SecondName, Name, Speciality_id, StudyGroup, GPA) VALUES (3, 'Исаева', 'Анна', 1, '01-20', 4.75);\n",
    "insert into Students(student_id, SecondName, Name, Speciality_id, StudyGroup, GPA) VALUES (4, 'Егоров', 'Павел', 2, '01-20', 4.83);\n",
    "insert into Students(student_id, SecondName, Name, Speciality_id, StudyGroup, GPA) VALUES (5, 'Тихомиров', 'Тимофей', 2, '03-20', 4.18);\n",
    "insert into Students(student_id, SecondName, Name, Speciality_id, StudyGroup, GPA) VALUES (6, 'Ширшов', 'Александр', 2, '06-20', 3.91);\n",
    "insert into Students(student_id, SecondName, Name, Speciality_id, StudyGroup, GPA) VALUES (7, 'Фатеев', 'Максим', 3, '05-20', 3.8);\n",
    "insert into Students(student_id, SecondName, Name, Speciality_id, StudyGroup, GPA) VALUES (8, 'Киселев', 'Петр',  3, '05-20', 3.5);\n",
    "insert into Students(student_id, SecondName, Name, Speciality_id, StudyGroup, GPA) VALUES (9, 'Агашкина', 'Дарья', 4, '02-20', 4.18);\n",
    "insert into Students(student_id, SecondName, Name, Speciality_id, StudyGroup, GPA) VALUES (10, 'Горин', 'Олег', 5, '01-20', 3.89);\n",
    "insert into Students(student_id, SecondName, Name, Speciality_id, StudyGroup, GPA) VALUES (11, 'Комарова', 'Виктория', 6, '02-20', 4.83);\n",
    "insert into Students(student_id, SecondName, Name, Speciality_id, StudyGroup, GPA) VALUES (12, 'Челыхов', 'Иван', 6, '06-20', 4.45);\n",
    "insert into Students(student_id, SecondName, Name, Speciality_id, StudyGroup, GPA) VALUES (13, 'Назаров', 'Александр', 6, '06-20', 3.73);\n",
    "insert into Students(student_id, SecondName, Name, Speciality_id, StudyGroup, GPA) VALUES (14, 'Горлова', 'Ксения', 7, '01-20', 5);"
   ]
  },
  {
   "cell_type": "markdown",
   "metadata": {
    "id": "ikX4Z-jW3f3t"
   },
   "source": [
    "Проверим наличие данных"
   ]
  },
  {
   "cell_type": "code",
   "execution_count": 25,
   "metadata": {
    "colab": {
     "base_uri": "https://localhost:8080/",
     "height": 374
    },
    "executionInfo": {
     "elapsed": 26,
     "status": "ok",
     "timestamp": 1662986864492,
     "user": {
      "displayName": "Alexander F",
      "userId": "00383436763330758578"
     },
     "user_tz": -180
    },
    "id": "eq9zXRxN3f3u",
    "outputId": "a5add2d7-795f-4f70-bc80-e3161075a90b",
    "scrolled": false
   },
   "outputs": [
    {
     "name": "stdout",
     "output_type": "stream",
     "text": [
      " * sqlite://\n",
      "Done.\n"
     ]
    },
    {
     "data": {
      "text/html": [
       "<table>\n",
       "    <tr>\n",
       "        <th>student_id</th>\n",
       "        <th>Name</th>\n",
       "        <th>SecondName</th>\n",
       "        <th>Speciality_id</th>\n",
       "        <th>StudyGroup</th>\n",
       "        <th>GPA</th>\n",
       "    </tr>\n",
       "    <tr>\n",
       "        <td>1</td>\n",
       "        <td>Николай</td>\n",
       "        <td>Альянов</td>\n",
       "        <td>1</td>\n",
       "        <td>04-20</td>\n",
       "        <td>3.58</td>\n",
       "    </tr>\n",
       "    <tr>\n",
       "        <td>2</td>\n",
       "        <td>Ева</td>\n",
       "        <td>Крыгина</td>\n",
       "        <td>1</td>\n",
       "        <td>01-20</td>\n",
       "        <td>4.58</td>\n",
       "    </tr>\n",
       "    <tr>\n",
       "        <td>3</td>\n",
       "        <td>Анна</td>\n",
       "        <td>Исаева</td>\n",
       "        <td>1</td>\n",
       "        <td>01-20</td>\n",
       "        <td>4.75</td>\n",
       "    </tr>\n",
       "    <tr>\n",
       "        <td>4</td>\n",
       "        <td>Павел</td>\n",
       "        <td>Егоров</td>\n",
       "        <td>2</td>\n",
       "        <td>01-20</td>\n",
       "        <td>4.83</td>\n",
       "    </tr>\n",
       "    <tr>\n",
       "        <td>5</td>\n",
       "        <td>Тимофей</td>\n",
       "        <td>Тихомиров</td>\n",
       "        <td>2</td>\n",
       "        <td>03-20</td>\n",
       "        <td>4.18</td>\n",
       "    </tr>\n",
       "    <tr>\n",
       "        <td>6</td>\n",
       "        <td>Александр</td>\n",
       "        <td>Ширшов</td>\n",
       "        <td>2</td>\n",
       "        <td>06-20</td>\n",
       "        <td>3.91</td>\n",
       "    </tr>\n",
       "    <tr>\n",
       "        <td>7</td>\n",
       "        <td>Максим</td>\n",
       "        <td>Фатеев</td>\n",
       "        <td>3</td>\n",
       "        <td>05-20</td>\n",
       "        <td>3.8</td>\n",
       "    </tr>\n",
       "    <tr>\n",
       "        <td>8</td>\n",
       "        <td>Петр</td>\n",
       "        <td>Киселев</td>\n",
       "        <td>3</td>\n",
       "        <td>05-20</td>\n",
       "        <td>3.5</td>\n",
       "    </tr>\n",
       "    <tr>\n",
       "        <td>9</td>\n",
       "        <td>Дарья</td>\n",
       "        <td>Агашкина</td>\n",
       "        <td>4</td>\n",
       "        <td>02-20</td>\n",
       "        <td>4.18</td>\n",
       "    </tr>\n",
       "    <tr>\n",
       "        <td>10</td>\n",
       "        <td>Олег</td>\n",
       "        <td>Горин</td>\n",
       "        <td>5</td>\n",
       "        <td>01-20</td>\n",
       "        <td>3.89</td>\n",
       "    </tr>\n",
       "    <tr>\n",
       "        <td>11</td>\n",
       "        <td>Виктория</td>\n",
       "        <td>Комарова</td>\n",
       "        <td>6</td>\n",
       "        <td>02-20</td>\n",
       "        <td>4.83</td>\n",
       "    </tr>\n",
       "    <tr>\n",
       "        <td>12</td>\n",
       "        <td>Иван</td>\n",
       "        <td>Челыхов</td>\n",
       "        <td>6</td>\n",
       "        <td>06-20</td>\n",
       "        <td>4.45</td>\n",
       "    </tr>\n",
       "    <tr>\n",
       "        <td>13</td>\n",
       "        <td>Александр</td>\n",
       "        <td>Назаров</td>\n",
       "        <td>6</td>\n",
       "        <td>06-20</td>\n",
       "        <td>3.73</td>\n",
       "    </tr>\n",
       "    <tr>\n",
       "        <td>14</td>\n",
       "        <td>Ксения</td>\n",
       "        <td>Горлова</td>\n",
       "        <td>7</td>\n",
       "        <td>01-20</td>\n",
       "        <td>5</td>\n",
       "    </tr>\n",
       "</table>"
      ],
      "text/plain": [
       "[(1, 'Николай', 'Альянов', 1, '04-20', 3.58),\n",
       " (2, 'Ева', 'Крыгина', 1, '01-20', 4.58),\n",
       " (3, 'Анна', 'Исаева', 1, '01-20', 4.75),\n",
       " (4, 'Павел', 'Егоров', 2, '01-20', 4.83),\n",
       " (5, 'Тимофей', 'Тихомиров', 2, '03-20', 4.18),\n",
       " (6, 'Александр', 'Ширшов', 2, '06-20', 3.91),\n",
       " (7, 'Максим', 'Фатеев', 3, '05-20', 3.8),\n",
       " (8, 'Петр', 'Киселев', 3, '05-20', 3.5),\n",
       " (9, 'Дарья', 'Агашкина', 4, '02-20', 4.18),\n",
       " (10, 'Олег', 'Горин', 5, '01-20', 3.89),\n",
       " (11, 'Виктория', 'Комарова', 6, '02-20', 4.83),\n",
       " (12, 'Иван', 'Челыхов', 6, '06-20', 4.45),\n",
       " (13, 'Александр', 'Назаров', 6, '06-20', 3.73),\n",
       " (14, 'Ксения', 'Горлова', 7, '01-20', 5)]"
      ]
     },
     "execution_count": 25,
     "metadata": {},
     "output_type": "execute_result"
    }
   ],
   "source": [
    "%sql select * from Students"
   ]
  },
  {
   "cell_type": "code",
   "execution_count": 10,
   "metadata": {
    "colab": {
     "base_uri": "https://localhost:8080/",
     "height": 225
    },
    "executionInfo": {
     "elapsed": 22,
     "status": "ok",
     "timestamp": 1662986864492,
     "user": {
      "displayName": "Alexander F",
      "userId": "00383436763330758578"
     },
     "user_tz": -180
    },
    "id": "yYtrbXwa3f3u",
    "outputId": "12d37bd0-a9fc-4116-95ea-c6af6ca137fc"
   },
   "outputs": [
    {
     "name": "stdout",
     "output_type": "stream",
     "text": [
      " * sqlite://\n",
      "Done.\n"
     ]
    },
    {
     "data": {
      "text/html": [
       "<table>\n",
       "    <tr>\n",
       "        <th>id</th>\n",
       "        <th>Name</th>\n",
       "    </tr>\n",
       "    <tr>\n",
       "        <td>1</td>\n",
       "        <td>Биотехнические системы и технологии</td>\n",
       "    </tr>\n",
       "    <tr>\n",
       "        <td>2</td>\n",
       "        <td>Компьютерная безопасность</td>\n",
       "    </tr>\n",
       "    <tr>\n",
       "        <td>3</td>\n",
       "        <td>Прикладная математика и информатика</td>\n",
       "    </tr>\n",
       "    <tr>\n",
       "        <td>4</td>\n",
       "        <td>Мехатроника и робототехника</td>\n",
       "    </tr>\n",
       "    <tr>\n",
       "        <td>5</td>\n",
       "        <td>Системный анализ и управление</td>\n",
       "    </tr>\n",
       "    <tr>\n",
       "        <td>6</td>\n",
       "        <td>Информационная безопасность телекоммуникационных систем</td>\n",
       "    </tr>\n",
       "    <tr>\n",
       "        <td>7</td>\n",
       "        <td>Управление в технических системах</td>\n",
       "    </tr>\n",
       "</table>"
      ],
      "text/plain": [
       "[(1, 'Биотехнические системы и технологии'),\n",
       " (2, 'Компьютерная безопасность'),\n",
       " (3, 'Прикладная математика и информатика'),\n",
       " (4, 'Мехатроника и робототехника'),\n",
       " (5, 'Системный анализ и управление'),\n",
       " (6, 'Информационная безопасность телекоммуникационных систем'),\n",
       " (7, 'Управление в технических системах')]"
      ]
     },
     "execution_count": 10,
     "metadata": {},
     "output_type": "execute_result"
    }
   ],
   "source": [
    "%sql select * from Specialities"
   ]
  },
  {
   "cell_type": "markdown",
   "metadata": {
    "id": "aC50VcAG3f3u"
   },
   "source": [
    "## Задание 1. Напишите SQL-запрос, возвращающий фамилии всех студентов с именем Александр"
   ]
  },
  {
   "cell_type": "code",
   "execution_count": 11,
   "metadata": {
    "id": "LNHUYlRElNNm"
   },
   "outputs": [
    {
     "name": "stdout",
     "output_type": "stream",
     "text": [
      " * sqlite://\n",
      "Done.\n"
     ]
    },
    {
     "data": {
      "text/html": [
       "<table>\n",
       "    <tr>\n",
       "        <th>SecondName</th>\n",
       "    </tr>\n",
       "</table>"
      ],
      "text/plain": [
       "[]"
      ]
     },
     "execution_count": 11,
     "metadata": {},
     "output_type": "execute_result"
    }
   ],
   "source": [
    "%%sql\n",
    "\n",
    "\n",
    "SELECT SecondName FROM students\n",
    "WHERE Name = \"Александр\";"
   ]
  },
  {
   "cell_type": "markdown",
   "metadata": {
    "id": "Hi4QfjHx3f3v"
   },
   "source": [
    "## Задание 2. Выведите все названия специальностей, на которых учится хотя бы один студент со средним баллом не менее 4. Имя специальности должно встречаться один раз в выводе"
   ]
  },
  {
   "cell_type": "code",
   "execution_count": 12,
   "metadata": {
    "id": "RH5DOJz83f3v"
   },
   "outputs": [
    {
     "name": "stdout",
     "output_type": "stream",
     "text": [
      " * sqlite://\n",
      "Done.\n"
     ]
    },
    {
     "data": {
      "text/html": [
       "<table>\n",
       "    <tr>\n",
       "        <th>Specialities</th>\n",
       "    </tr>\n",
       "</table>"
      ],
      "text/plain": [
       "[]"
      ]
     },
     "execution_count": 12,
     "metadata": {},
     "output_type": "execute_result"
    }
   ],
   "source": [
    "%%sql\n",
    "\n",
    "\n",
    "SELECT DISTINCT Specialities.Name AS Specialities FROM students\n",
    "LEFT JOIN Specialities\n",
    "    ON students.Speciality_id = Specialities.id\n",
    "WHERE gpa > 4;"
   ]
  },
  {
   "cell_type": "markdown",
   "metadata": {
    "collapsed": true,
    "id": "tjapuoH13f3v"
   },
   "source": [
    "## Задание 3. Вывести только тех студентов, фамилия которых начинается с буквы 'к', а в имени есть буква 'е'."
   ]
  },
  {
   "cell_type": "code",
   "execution_count": 13,
   "metadata": {
    "id": "_0dw3OJm3f3v"
   },
   "outputs": [
    {
     "name": "stdout",
     "output_type": "stream",
     "text": [
      " * sqlite://\n",
      "Done.\n"
     ]
    },
    {
     "data": {
      "text/html": [
       "<table>\n",
       "    <tr>\n",
       "        <th>Name</th>\n",
       "        <th>SecondName</th>\n",
       "    </tr>\n",
       "</table>"
      ],
      "text/plain": [
       "[]"
      ]
     },
     "execution_count": 13,
     "metadata": {},
     "output_type": "execute_result"
    }
   ],
   "source": [
    "%%sql\n",
    "\n",
    "\n",
    "SELECT name, secondname FROM students\n",
    "WHERE secondname LIKE \"К%\" AND (name LIKE \"%е%\" OR name LIKE \"%Е%\");"
   ]
  },
  {
   "cell_type": "markdown",
   "metadata": {},
   "source": [
    "#### (выполнено с предположением, что буквы в задании определены без учета регистра)"
   ]
  },
  {
   "cell_type": "markdown",
   "metadata": {
    "id": "0TS2W3aV3f3v"
   },
   "source": [
    "## Задание 4. Вывести специальности (+ их средние баллы), количество групп в которых больше одной"
   ]
  },
  {
   "cell_type": "code",
   "execution_count": 34,
   "metadata": {
    "id": "uRgmhus13f3w"
   },
   "outputs": [
    {
     "name": "stdout",
     "output_type": "stream",
     "text": [
      " * sqlite://\n",
      "Done.\n"
     ]
    },
    {
     "data": {
      "text/html": [
       "<table>\n",
       "    <tr>\n",
       "        <th>Name</th>\n",
       "        <th>AVG</th>\n",
       "        <th>Groups</th>\n",
       "    </tr>\n",
       "    <tr>\n",
       "        <td>Биотехнические системы и технологии</td>\n",
       "        <td>4.303333333333334</td>\n",
       "        <td>2</td>\n",
       "    </tr>\n",
       "    <tr>\n",
       "        <td>Информационная безопасность телекоммуникационных систем</td>\n",
       "        <td>4.336666666666667</td>\n",
       "        <td>2</td>\n",
       "    </tr>\n",
       "    <tr>\n",
       "        <td>Компьютерная безопасность</td>\n",
       "        <td>4.306666666666667</td>\n",
       "        <td>3</td>\n",
       "    </tr>\n",
       "</table>"
      ],
      "text/plain": [
       "[('Биотехнические системы и технологии', 4.303333333333334, 2),\n",
       " ('Информационная безопасность телекоммуникационных систем', 4.336666666666667, 2),\n",
       " ('Компьютерная безопасность', 4.306666666666667, 3)]"
      ]
     },
     "execution_count": 34,
     "metadata": {},
     "output_type": "execute_result"
    }
   ],
   "source": [
    "%%sql\n",
    "\n",
    "\n",
    "SELECT Specialities.name,  avg(gpa) AS AVG,  count(DISTINCT StudyGroup) AS Groups FROM students\n",
    "LEFT JOIN Specialities\n",
    "    ON students.Speciality_id = Specialities.id\n",
    "GROUP BY Specialities.name\n",
    "HAVING Groups >1;"
   ]
  },
  {
   "cell_type": "code",
   "execution_count": 35,
   "metadata": {},
   "outputs": [
    {
     "name": "stdout",
     "output_type": "stream",
     "text": [
      " * sqlite://\n",
      "Done.\n"
     ]
    },
    {
     "data": {
      "text/html": [
       "<table>\n",
       "    <tr>\n",
       "        <th>Name</th>\n",
       "        <th>AVG</th>\n",
       "        <th>Groups</th>\n",
       "    </tr>\n",
       "    <tr>\n",
       "        <td>Биотехнические системы и технологии</td>\n",
       "        <td>4.303333333333334</td>\n",
       "        <td>3</td>\n",
       "    </tr>\n",
       "    <tr>\n",
       "        <td>Информационная безопасность телекоммуникационных систем</td>\n",
       "        <td>4.336666666666667</td>\n",
       "        <td>3</td>\n",
       "    </tr>\n",
       "    <tr>\n",
       "        <td>Компьютерная безопасность</td>\n",
       "        <td>4.306666666666667</td>\n",
       "        <td>3</td>\n",
       "    </tr>\n",
       "    <tr>\n",
       "        <td>Прикладная математика и информатика</td>\n",
       "        <td>3.65</td>\n",
       "        <td>2</td>\n",
       "    </tr>\n",
       "</table>"
      ],
      "text/plain": [
       "[('Биотехнические системы и технологии', 4.303333333333334, 3),\n",
       " ('Информационная безопасность телекоммуникационных систем', 4.336666666666667, 3),\n",
       " ('Компьютерная безопасность', 4.306666666666667, 3),\n",
       " ('Прикладная математика и информатика', 3.65, 2)]"
      ]
     },
     "execution_count": 35,
     "metadata": {},
     "output_type": "execute_result"
    }
   ],
   "source": [
    "%%sql\n",
    "\n",
    "\n",
    "SELECT Specialities.name,  avg(gpa) AS AVG,  count(*) AS Groups FROM students\n",
    "LEFT JOIN Specialities\n",
    "    ON students.Speciality_id = Specialities.id\n",
    "GROUP BY Specialities.name\n",
    "HAVING Groups >1;"
   ]
  },
  {
   "cell_type": "markdown",
   "metadata": {
    "id": "msNP-JhP3f3w"
   },
   "source": [
    "## Задание 5. Для всех специальностей вывести средний балл по специальности для студентов, в чьей фамилия вторая буква НЕ 'а', при условии, что количество таких студентов на специальности не менее 2. В обратном случае, специальность выводить не требуется"
   ]
  },
  {
   "cell_type": "code",
   "execution_count": 27,
   "metadata": {
    "id": "XvQ0SwGB3f3w"
   },
   "outputs": [
    {
     "name": "stdout",
     "output_type": "stream",
     "text": [
      " * sqlite://\n",
      "Done.\n"
     ]
    },
    {
     "data": {
      "text/html": [
       "<table>\n",
       "    <tr>\n",
       "        <th>Name</th>\n",
       "        <th>AVG</th>\n",
       "        <th>Number_of_students</th>\n",
       "    </tr>\n",
       "    <tr>\n",
       "        <td>Биотехнические системы и технологии</td>\n",
       "        <td>4.303333333333334</td>\n",
       "        <td>3</td>\n",
       "    </tr>\n",
       "    <tr>\n",
       "        <td>Информационная безопасность телекоммуникационных систем</td>\n",
       "        <td>4.640000000000001</td>\n",
       "        <td>2</td>\n",
       "    </tr>\n",
       "    <tr>\n",
       "        <td>Компьютерная безопасность</td>\n",
       "        <td>4.306666666666667</td>\n",
       "        <td>3</td>\n",
       "    </tr>\n",
       "</table>"
      ],
      "text/plain": [
       "[('Биотехнические системы и технологии', 4.303333333333334, 3),\n",
       " ('Информационная безопасность телекоммуникационных систем', 4.640000000000001, 2),\n",
       " ('Компьютерная безопасность', 4.306666666666667, 3)]"
      ]
     },
     "execution_count": 27,
     "metadata": {},
     "output_type": "execute_result"
    }
   ],
   "source": [
    "%%sql\n",
    "\n",
    "\n",
    "SELECT Specialities.name,  avg(gpa) AS AVG, count(Specialities.name) AS Number_of_students FROM students\n",
    "LEFT JOIN Specialities\n",
    "    ON students.Speciality_id = Specialities.id\n",
    "WHERE students.secondname NOT LIKE \"_а%\"\n",
    "GROUP BY Specialities.name\n",
    "HAVING Number_of_students >= 2;"
   ]
  },
  {
   "cell_type": "code",
   "execution_count": null,
   "metadata": {},
   "outputs": [],
   "source": []
  }
 ],
 "metadata": {
  "colab": {
   "collapsed_sections": [],
   "provenance": []
  },
  "kernelspec": {
   "display_name": "Python 3 (ipykernel)",
   "language": "python",
   "name": "python3"
  },
  "language_info": {
   "codemirror_mode": {
    "name": "ipython",
    "version": 3
   },
   "file_extension": ".py",
   "mimetype": "text/x-python",
   "name": "python",
   "nbconvert_exporter": "python",
   "pygments_lexer": "ipython3",
   "version": "3.9.7"
  }
 },
 "nbformat": 4,
 "nbformat_minor": 1
}
